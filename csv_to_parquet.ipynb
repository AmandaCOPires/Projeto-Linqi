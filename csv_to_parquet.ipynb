{
 "cells": [
  {
   "cell_type": "code",
   "execution_count": 1,
   "metadata": {},
   "outputs": [],
   "source": [
    "import pandas as pd"
   ]
  },
  {
   "cell_type": "code",
   "execution_count": 2,
   "metadata": {},
   "outputs": [],
   "source": [
    "# Caminho do arquivo CSV (troque pelo seu)\n",
    "caminho_csv = r\"C:\\Users\\andre\\Downloads\\sample.csv\"  # Windows"
   ]
  },
  {
   "cell_type": "code",
   "execution_count": 3,
   "metadata": {},
   "outputs": [],
   "source": [
    "# Caminho do arquivo Parquet de saída\n",
    "caminho_parquet = caminho_csv.replace(\".csv\", \".parquet\")"
   ]
  },
  {
   "cell_type": "code",
   "execution_count": 4,
   "metadata": {},
   "outputs": [
    {
     "name": "stdout",
     "output_type": "stream",
     "text": [
      "Arquivo convertido e salvo em: C:\\Users\\andre\\Downloads\\sample.parquet\n"
     ]
    }
   ],
   "source": [
    "# Leitura do CSV e conversão para Parquet\n",
    "df = pd.read_csv(caminho_csv)\n",
    "df.to_parquet(caminho_parquet, engine=\"pyarrow\")\n",
    "\n",
    "print(f\"Arquivo convertido e salvo em: {caminho_parquet}\")"
   ]
  }
 ],
 "metadata": {
  "kernelspec": {
   "display_name": ".venv",
   "language": "python",
   "name": "python3"
  },
  "language_info": {
   "codemirror_mode": {
    "name": "ipython",
    "version": 3
   },
   "file_extension": ".py",
   "mimetype": "text/x-python",
   "name": "python",
   "nbconvert_exporter": "python",
   "pygments_lexer": "ipython3",
   "version": "3.12.4"
  }
 },
 "nbformat": 4,
 "nbformat_minor": 2
}
