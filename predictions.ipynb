{
 "cells": [
  {
   "cell_type": "code",
   "execution_count": 1,
   "id": "374ceeaa",
   "metadata": {},
   "outputs": [],
   "source": [
    "import pandas as pd\n",
    "import numpy as np\n",
    "import xgboost as xgb\n",
    "import json\n",
    "import lightgbm as lgb\n",
    "import holidays\n",
    "import itertools\n",
    "from tqdm import tqdm\n",
    "\n",
    "from sklearn.linear_model import LinearRegression, Ridge, Lasso, ElasticNet, HuberRegressor\n",
    "from sklearn.ensemble import RandomForestRegressor, GradientBoostingRegressor\n",
    "from sklearn.preprocessing import MinMaxScaler\n",
    "from sklearn.model_selection import train_test_split\n",
    "from sklearn.metrics import mean_absolute_error\n",
    "from sklearn.linear_model import LinearRegression\n",
    "from sklearn.model_selection import GridSearchCV\n",
    "from sklearn.tree import DecisionTreeRegressor\n",
    "from sklearn.neural_network import MLPRegressor\n",
    "from sklearn.svm import SVR\n",
    "from lightgbm import LGBMRegressor\n",
    "import pickle"
   ]
  },
  {
   "cell_type": "markdown",
   "id": "b9fd3190",
   "metadata": {},
   "source": [
    "# Read Data\n",
    "---"
   ]
  },
  {
   "cell_type": "code",
   "execution_count": 2,
   "id": "ac76b69c",
   "metadata": {},
   "outputs": [],
   "source": [
    "df = pd.read_parquet(\"./data/sample_trat_curva_C.parquet\")"
   ]
  },
  {
   "cell_type": "markdown",
   "id": "df0c9fff",
   "metadata": {},
   "source": [
    "# Processing\n",
    "---"
   ]
  },
  {
   "cell_type": "markdown",
   "id": "22b17978",
   "metadata": {},
   "source": [
    "## changing_names\n"
   ]
  },
  {
   "cell_type": "code",
   "execution_count": 3,
   "id": "17af717a",
   "metadata": {},
   "outputs": [],
   "source": [
    "renames = {\n",
    "    \"loja_id\": \"merchant_id\",\n",
    "    'produto_id': 'product_id',\n",
    "    'data': 'date',\n",
    "    'categoria_id': 'category_id',\n",
    "    'is_medicamento': 'is_medicine',\n",
    "    'curva': 'sales_curve',\n",
    "    'estoque_final': 'ending_stock',\n",
    "    'venda': 'sales',\n",
    "    'custo': 'cost',\n",
    "    'preco': 'price',\n",
    "    'estoque_inicial': 'starting_stock',\n",
    "    'estoque_final_anterior': 'previous_ending_stock',\n",
    "    'reposicao': 'restock',\n",
    "}\n",
    "\n",
    "df = df.rename(columns=renames)"
   ]
  },
  {
   "cell_type": "markdown",
   "id": "5780fe37",
   "metadata": {},
   "source": [
    "## droping columns"
   ]
  },
  {
   "cell_type": "code",
   "execution_count": 4,
   "id": "4d5adcef",
   "metadata": {},
   "outputs": [],
   "source": [
    "to_drop = [\n",
    "    'ending_stock',\n",
    "    'starting_stock',\n",
    "    'previous_ending_stock',\n",
    "    'restock',\n",
    "    'sales_curve'\n",
    "]\n",
    "\n",
    "df = df.drop(columns=to_drop)"
   ]
  },
  {
   "cell_type": "markdown",
   "id": "bd085f1e",
   "metadata": {},
   "source": [
    "## New Features"
   ]
  },
  {
   "cell_type": "markdown",
   "id": "af51ede9",
   "metadata": {},
   "source": [
    "## Date "
   ]
  },
  {
   "cell_type": "code",
   "execution_count": 5,
   "id": "7cda5ce7",
   "metadata": {},
   "outputs": [],
   "source": [
    "df['date'] = pd.to_datetime(df['date'])\n",
    "\n",
    "# Extracting date features\n",
    "df['day'] = df['date'].dt.day\n",
    "df['month'] = df['date'].dt.month\n",
    "df['year'] = df['date'].dt.year\n",
    "df['day_of_week'] = df['date'].dt.dayofweek\n",
    "df['is_weekend'] = df['day_of_week'] >= 5\n",
    "df['week_of_year'] = df['date'].dt.isocalendar().week\n",
    "\n",
    "# Brazilian holidays\n",
    "br_holidays = holidays.Brazil()\n",
    "df['is_brazilian_holiday'] = df['date'].isin(br_holidays)"
   ]
  },
  {
   "cell_type": "code",
   "execution_count": 6,
   "id": "75e76ca6",
   "metadata": {},
   "outputs": [
    {
     "data": {
      "text/html": [
       "<div>\n",
       "<style scoped>\n",
       "    .dataframe tbody tr th:only-of-type {\n",
       "        vertical-align: middle;\n",
       "    }\n",
       "\n",
       "    .dataframe tbody tr th {\n",
       "        vertical-align: top;\n",
       "    }\n",
       "\n",
       "    .dataframe thead th {\n",
       "        text-align: right;\n",
       "    }\n",
       "</style>\n",
       "<table border=\"1\" class=\"dataframe\">\n",
       "  <thead>\n",
       "    <tr style=\"text-align: right;\">\n",
       "      <th></th>\n",
       "      <th>merchant_id</th>\n",
       "      <th>product_id</th>\n",
       "      <th>date</th>\n",
       "      <th>category_id</th>\n",
       "      <th>is_medicine</th>\n",
       "      <th>sales</th>\n",
       "      <th>cost</th>\n",
       "      <th>price</th>\n",
       "      <th>day</th>\n",
       "      <th>month</th>\n",
       "      <th>year</th>\n",
       "      <th>day_of_week</th>\n",
       "      <th>is_weekend</th>\n",
       "      <th>week_of_year</th>\n",
       "      <th>is_brazilian_holiday</th>\n",
       "    </tr>\n",
       "  </thead>\n",
       "  <tbody>\n",
       "    <tr>\n",
       "      <th>35464798</th>\n",
       "      <td>1</td>\n",
       "      <td>3</td>\n",
       "      <td>2023-06-20</td>\n",
       "      <td>9.0</td>\n",
       "      <td>True</td>\n",
       "      <td>0.0</td>\n",
       "      <td>0.024664</td>\n",
       "      <td>0.073309</td>\n",
       "      <td>20</td>\n",
       "      <td>6</td>\n",
       "      <td>2023</td>\n",
       "      <td>1</td>\n",
       "      <td>False</td>\n",
       "      <td>25</td>\n",
       "      <td>False</td>\n",
       "    </tr>\n",
       "    <tr>\n",
       "      <th>35464799</th>\n",
       "      <td>1</td>\n",
       "      <td>3</td>\n",
       "      <td>2023-06-21</td>\n",
       "      <td>9.0</td>\n",
       "      <td>True</td>\n",
       "      <td>0.0</td>\n",
       "      <td>0.024664</td>\n",
       "      <td>0.073309</td>\n",
       "      <td>21</td>\n",
       "      <td>6</td>\n",
       "      <td>2023</td>\n",
       "      <td>2</td>\n",
       "      <td>False</td>\n",
       "      <td>25</td>\n",
       "      <td>False</td>\n",
       "    </tr>\n",
       "    <tr>\n",
       "      <th>35464800</th>\n",
       "      <td>1</td>\n",
       "      <td>3</td>\n",
       "      <td>2023-06-22</td>\n",
       "      <td>9.0</td>\n",
       "      <td>True</td>\n",
       "      <td>0.0</td>\n",
       "      <td>0.024664</td>\n",
       "      <td>0.073309</td>\n",
       "      <td>22</td>\n",
       "      <td>6</td>\n",
       "      <td>2023</td>\n",
       "      <td>3</td>\n",
       "      <td>False</td>\n",
       "      <td>25</td>\n",
       "      <td>False</td>\n",
       "    </tr>\n",
       "    <tr>\n",
       "      <th>35464801</th>\n",
       "      <td>1</td>\n",
       "      <td>3</td>\n",
       "      <td>2023-06-23</td>\n",
       "      <td>9.0</td>\n",
       "      <td>True</td>\n",
       "      <td>0.0</td>\n",
       "      <td>0.024664</td>\n",
       "      <td>0.073309</td>\n",
       "      <td>23</td>\n",
       "      <td>6</td>\n",
       "      <td>2023</td>\n",
       "      <td>4</td>\n",
       "      <td>False</td>\n",
       "      <td>25</td>\n",
       "      <td>False</td>\n",
       "    </tr>\n",
       "    <tr>\n",
       "      <th>35464802</th>\n",
       "      <td>1</td>\n",
       "      <td>3</td>\n",
       "      <td>2023-06-24</td>\n",
       "      <td>9.0</td>\n",
       "      <td>True</td>\n",
       "      <td>0.0</td>\n",
       "      <td>0.024664</td>\n",
       "      <td>0.073309</td>\n",
       "      <td>24</td>\n",
       "      <td>6</td>\n",
       "      <td>2023</td>\n",
       "      <td>5</td>\n",
       "      <td>True</td>\n",
       "      <td>25</td>\n",
       "      <td>False</td>\n",
       "    </tr>\n",
       "  </tbody>\n",
       "</table>\n",
       "</div>"
      ],
      "text/plain": [
       "          merchant_id  product_id       date  category_id  is_medicine  sales  \\\n",
       "35464798            1           3 2023-06-20          9.0         True    0.0   \n",
       "35464799            1           3 2023-06-21          9.0         True    0.0   \n",
       "35464800            1           3 2023-06-22          9.0         True    0.0   \n",
       "35464801            1           3 2023-06-23          9.0         True    0.0   \n",
       "35464802            1           3 2023-06-24          9.0         True    0.0   \n",
       "\n",
       "              cost     price  day  month  year  day_of_week  is_weekend  \\\n",
       "35464798  0.024664  0.073309   20      6  2023            1       False   \n",
       "35464799  0.024664  0.073309   21      6  2023            2       False   \n",
       "35464800  0.024664  0.073309   22      6  2023            3       False   \n",
       "35464801  0.024664  0.073309   23      6  2023            4       False   \n",
       "35464802  0.024664  0.073309   24      6  2023            5        True   \n",
       "\n",
       "          week_of_year  is_brazilian_holiday  \n",
       "35464798            25                 False  \n",
       "35464799            25                 False  \n",
       "35464800            25                 False  \n",
       "35464801            25                 False  \n",
       "35464802            25                 False  "
      ]
     },
     "execution_count": 6,
     "metadata": {},
     "output_type": "execute_result"
    }
   ],
   "source": [
    "df.head()"
   ]
  },
  {
   "cell_type": "markdown",
   "id": "97e34278",
   "metadata": {},
   "source": [
    "## lags"
   ]
  },
  {
   "cell_type": "code",
   "execution_count": 7,
   "id": "702e08f9",
   "metadata": {},
   "outputs": [],
   "source": [
    "# Criar colunas de semana anterior\n",
    "df['prev_week'] = df['week_of_year'] - 1\n",
    "df['prev_year'] = df['year']\n",
    "\n",
    "# Ajustar quando a semana for 1 (voltar para última semana do ano anterior)\n",
    "df.loc[df['week_of_year'] == 1, 'prev_week'] = 52  # ou 53 dependendo do calendário, pode ajustar se necessário\n",
    "df.loc[df['week_of_year'] == 1, 'prev_year'] = df['year'] - 1\n",
    "\n",
    "# Agrupar para calcular média de cost e price por semana\n",
    "weekly_avg = df.groupby(\n",
    "    ['product_id', 'merchant_id', 'year', 'week_of_year']\n",
    ")[['cost', 'price', 'sales']].mean().reset_index()\n",
    "\n",
    "# Merge com base na semana anterior\n",
    "df = df.merge(\n",
    "    weekly_avg,\n",
    "    left_on=['product_id', 'merchant_id', 'prev_year', 'prev_week'],\n",
    "    right_on=['product_id', 'merchant_id', 'year', 'week_of_year'],\n",
    "    how='left',\n",
    "    suffixes=('', '_prev_week')\n",
    ")\n",
    "\n",
    "# Renomear colunas de média da semana anterior\n",
    "df.rename(columns={\n",
    "    'cost_prev_week': 'prev_week_cost_avg',\n",
    "    'sales_prev_week': 'prev_week_sales_avg',\n",
    "    'price_prev_week': 'prev_week_price_avg'\n",
    "}, inplace=True)\n",
    "\n",
    "# Remover colunas auxiliares\n",
    "df = df.drop(columns=[\n",
    "        'year_prev_week', \n",
    "        'week_of_year_prev_week', \n",
    "        'prev_year', \n",
    "        'prev_week'\n",
    "    ])\n",
    "\n",
    "df = df.drop(columns=['cost', 'price'])"
   ]
  },
  {
   "cell_type": "code",
   "execution_count": 8,
   "id": "799c370c",
   "metadata": {},
   "outputs": [
    {
     "name": "stdout",
     "output_type": "stream",
     "text": [
      "(9904630, 16)\n",
      "(9839122, 16)\n"
     ]
    }
   ],
   "source": [
    "print(df.shape)\n",
    "df = df.dropna(subset=['prev_week_cost_avg', 'prev_week_price_avg', 'prev_week_sales_avg'])\n",
    "print(df.shape)"
   ]
  },
  {
   "cell_type": "markdown",
   "id": "340287f2",
   "metadata": {},
   "source": [
    "## Change types"
   ]
  },
  {
   "cell_type": "code",
   "execution_count": 9,
   "id": "51430d2e",
   "metadata": {},
   "outputs": [],
   "source": [
    "df[\"date\"] = pd.to_datetime(df[\"date\"])"
   ]
  },
  {
   "cell_type": "code",
   "execution_count": 10,
   "id": "673961df",
   "metadata": {},
   "outputs": [],
   "source": [
    "change_types = {\n",
    "    'category_id': 'int64',\n",
    "    'is_medicine': 'int64',\n",
    "    'is_weekend': 'int64',\n",
    "    'is_brazilian_holiday': 'int64',\n",
    "}\n",
    "\n",
    "df = df.astype(change_types)"
   ]
  },
  {
   "cell_type": "markdown",
   "id": "5d02cce0",
   "metadata": {},
   "source": [
    "# Train Split"
   ]
  },
  {
   "cell_type": "code",
   "execution_count": 11,
   "id": "592a5d0e",
   "metadata": {},
   "outputs": [
    {
     "name": "stdout",
     "output_type": "stream",
     "text": [
      "Tamanho do X: 7880432\n",
      "Tamanho do Y: 1958690\n",
      "Data de corte: 2024-08-19 00:00:00\n"
     ]
    }
   ],
   "source": [
    "df[\"date\"] = pd.to_datetime(df[\"date\"])\n",
    "df = df.sort_values(\"date\").reset_index(drop=True)\n",
    "\n",
    "split_index = int(0.8 * len(df))\n",
    "cutoff_date = df.loc[split_index, \"date\"]\n",
    "\n",
    "X = df[df[\"date\"] <= cutoff_date].reset_index(drop=True)\n",
    "Y = df[df[\"date\"] > cutoff_date].reset_index(drop=True)\n",
    "\n",
    "del df\n",
    "\n",
    "print(f\"Tamanho do X: {len(X)}\")\n",
    "print(f\"Tamanho do Y: {len(Y)}\")\n",
    "print(f\"Data de corte: {cutoff_date}\")"
   ]
  },
  {
   "cell_type": "code",
   "execution_count": 12,
   "id": "6c66af23",
   "metadata": {},
   "outputs": [
    {
     "name": "stdout",
     "output_type": "stream",
     "text": [
      "(7880432, 14)\n",
      "(7880432,)\n",
      "(1958690, 14)\n",
      "(1958690,)\n"
     ]
    }
   ],
   "source": [
    "X_train = X.drop(columns=[\"date\", \"sales\"])\n",
    "Y_train = X[\"sales\"]\n",
    "X_test = Y.drop(columns=[\"date\", \"sales\"])\n",
    "Y_test = Y[\"sales\"]\n",
    "\n",
    "print(X_train.shape)\n",
    "print(Y_train.shape)\n",
    "print(X_test.shape)\n",
    "print(Y_test.shape)"
   ]
  },
  {
   "cell_type": "markdown",
   "id": "80f2a1d1",
   "metadata": {},
   "source": [
    "# Train"
   ]
  },
  {
   "cell_type": "code",
   "execution_count": null,
   "id": "3c87ebf7",
   "metadata": {},
   "outputs": [
    {
     "ename": "",
     "evalue": "",
     "output_type": "error",
     "traceback": [
      "\u001b[1;31mThe Kernel crashed while executing code in the current cell or a previous cell. \n",
      "\u001b[1;31mPlease review the code in the cell(s) to identify a possible cause of the failure. \n",
      "\u001b[1;31mClick <a href='https://aka.ms/vscodeJupyterKernelCrash'>here</a> for more info. \n",
      "\u001b[1;31mView Jupyter <a href='command:jupyter.viewOutput'>log</a> for further details."
     ]
    }
   ],
   "source": [
    "model_params = {\n",
    "    'Ridge': {\n",
    "        'model': Ridge(),\n",
    "        'params': {\n",
    "            'alpha': [10.0, 30.0, 50.0]\n",
    "        }\n",
    "    },\n",
    "    'Lasso': {\n",
    "        'model': Lasso(),\n",
    "        'params': {\n",
    "            'alpha': [1.0, 3.0, 5.0, 10.0]\n",
    "        }\n",
    "    },\n",
    "    'DecisionTreeRegressor': {\n",
    "        'model': DecisionTreeRegressor(),\n",
    "        'params': {\n",
    "            'max_depth': [None, 10, 20, 30],\n",
    "            'min_samples_split': [2, 5, 10],\n",
    "            'min_samples_leaf': [1, 2, 4]\n",
    "        }\n",
    "    },\n",
    "    'RandomForestRegressor': {\n",
    "        'model': RandomForestRegressor(),\n",
    "        'params': {\n",
    "            'n_estimators': [20, 30]\n",
    "        }\n",
    "    },\n",
    "    'XGBRegressor': {\n",
    "        'model': xgb.XGBRegressor(),\n",
    "        'params': {\n",
    "            'n_estimators': [60, 100, 150, 200],\n",
    "            'learning_rate': [0.01, 0.1, 0.5],\n",
    "            'subsample': [0.9]\n",
    "        }\n",
    "    },\n",
    "    'LGBMRegressor': {\n",
    "        'model': LGBMRegressor(),\n",
    "        'params': {\n",
    "            'n_estimators': [40, 50, 100, 150, 200],\n",
    "            'learning_rate': [0.1, 0.2, 0.3],\n",
    "            'num_leaves': [40, 63, 70]\n",
    "        }\n",
    "    }\n",
    "}"
   ]
  },
  {
   "cell_type": "code",
   "execution_count": null,
   "id": "d59a3da1",
   "metadata": {},
   "outputs": [
    {
     "name": "stdout",
     "output_type": "stream",
     "text": [
      "Running manual grid search for Ridge...\n"
     ]
    },
    {
     "name": "stderr",
     "output_type": "stream",
     "text": [
      "100%|██████████| 3/3 [00:04<00:00,  1.52s/it]\n"
     ]
    },
    {
     "name": "stdout",
     "output_type": "stream",
     "text": [
      "Best Parameters: {'alpha': 10.0}\n",
      "Best MAE: 0.115071\n",
      "\n",
      "\n",
      "Running manual grid search for Lasso...\n"
     ]
    },
    {
     "name": "stderr",
     "output_type": "stream",
     "text": [
      "100%|██████████| 4/4 [00:21<00:00,  5.27s/it]\n"
     ]
    },
    {
     "name": "stdout",
     "output_type": "stream",
     "text": [
      "Best Parameters: {'alpha': 1.0}\n",
      "Best MAE: 0.126124\n",
      "\n",
      "\n",
      "Running manual grid search for DecisionTreeRegressor...\n"
     ]
    },
    {
     "name": "stderr",
     "output_type": "stream",
     "text": [
      "100%|██████████| 36/36 [45:15<00:00, 75.44s/it]\n"
     ]
    },
    {
     "name": "stdout",
     "output_type": "stream",
     "text": [
      "Best Parameters: {'max_depth': 10, 'min_samples_split': 5, 'min_samples_leaf': 1}\n",
      "Best MAE: 0.115860\n",
      "\n",
      "\n",
      "Running manual grid search for RandomForestRegressor...\n"
     ]
    },
    {
     "name": "stderr",
     "output_type": "stream",
     "text": [
      "100%|██████████| 2/2 [57:37<00:00, 1728.82s/it]\n"
     ]
    },
    {
     "name": "stdout",
     "output_type": "stream",
     "text": [
      "Best Parameters: {'n_estimators': 20}\n",
      "Best MAE: 0.174171\n",
      "\n",
      "\n"
     ]
    }
   ],
   "source": [
    "model_best_params = {}\n",
    "best_preds = 0\n",
    "\n",
    "for model_name, config in model_params.items():\n",
    "    print(f\"Running manual grid search for {model_name}...\")\n",
    "\n",
    "    model_class = config['model']\n",
    "    param_grid = config['params']\n",
    "\n",
    "    keys, values = zip(*param_grid.items())\n",
    "    param_combinations = [dict(zip(keys, v)) for v in itertools.product(*values)]\n",
    "\n",
    "    best_score = float('inf')\n",
    "    best_params = None\n",
    "    best_model = None\n",
    "\n",
    "    for params in tqdm(param_combinations):\n",
    "        model = model_class.set_params(**params)\n",
    "        model.fit(X_train, Y_train)\n",
    "\n",
    "        preds = model.predict(X_test)\n",
    "        preds = np.maximum(preds, 0)\n",
    "        \n",
    "        mae = mean_absolute_error(Y_test, preds)\n",
    "\n",
    "        if mae < best_score:\n",
    "            best_score = mae\n",
    "            best_params = params\n",
    "            best_model = model\n",
    "            best_preds = preds\n",
    "\n",
    "    print(f'Best Parameters: {best_params}')\n",
    "    print(f'Best MAE: {best_score:.6f}\\n\\n')\n",
    "\n",
    "    model_best_params[model_name] = {\n",
    "        'model': model_name,\n",
    "        'best_param': best_params,\n",
    "        'best_score': best_score\n",
    "    }\n",
    "\n",
    "    with open('model_best_params.json', 'w') as f:\n",
    "        json.dump(model_best_params, f, indent=4)\n",
    "\n",
    "    with open(f'./models/{model_name}.pkl', 'wb') as f:\n",
    "        pickle.dump(best_model, f)\n",
    "        \n",
    "    del model, best_model, preds"
   ]
  }
 ],
 "metadata": {
  "kernelspec": {
   "display_name": ".venv",
   "language": "python",
   "name": "python3"
  },
  "language_info": {
   "codemirror_mode": {
    "name": "ipython",
    "version": 3
   },
   "file_extension": ".py",
   "mimetype": "text/x-python",
   "name": "python",
   "nbconvert_exporter": "python",
   "pygments_lexer": "ipython3",
   "version": "3.10.12"
  }
 },
 "nbformat": 4,
 "nbformat_minor": 5
}
